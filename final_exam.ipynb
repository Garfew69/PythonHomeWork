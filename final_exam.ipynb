{
 "cells": [
  {
   "cell_type": "markdown",
   "metadata": {},
   "source": [
    "# ข้อสอบปลายภาควิชา การเขียนโปรแกรมเชิงวัตถุ"
   ]
  },
  {
   "cell_type": "code",
   "execution_count": null,
   "metadata": {},
   "outputs": [],
   "source": [
    "\"\"\"\n",
    "ชื่อ - สกุล - รหัส\n",
    "นายกิตตินันท์ สองศร 6612732103\n",
    "\n",
    "\"\"\""
   ]
  },
  {
   "cell_type": "markdown",
   "metadata": {},
   "source": [
    "## 1. เขียนโปรแกรมโดยใช้กลไกลการทำงานแบบ OOP ตามข้อกำหนดดังต่อไปนี้\n",
    "\n",
    "- จงสร้างคลาส Person\" ที่มีตัวแปร \"name\" และ \"age\" ซึ่งไม่สามารถเข้าถึงผ่านตัวแปร instance ได้ และเขียน method ที่ใช้สำหรับแก้ไข \"age\" จากภายในคลาส และ \"age\" จะต้องมีค่าเพิ่มขึ้นได้อย่างเดียวเท่านั้น\n",
    "\n",
    "- ภายใน Class Person กำหนดให้มี method ชื่อ getInfo() สำหรับแสดงข้อมูลบุคคลนั้น ๆ"
   ]
  },
  {
   "cell_type": "code",
   "execution_count": 43,
   "metadata": {
    "tags": []
   },
   "outputs": [],
   "source": [
    "class Person:\n",
    "    def __init__(self, name, age):\n",
    "        self._name = name\n",
    "        self._age = age\n",
    "\n",
    "    def _set_age(self, new_age):\n",
    "        if new_age > self._age:\n",
    "            self._age = new_age\n",
    "\n",
    "    def getInfo(self):\n",
    "        return f\"Name: {self._name}, Age: {self._age}\"\n",
    "\n",
    "\n"
   ]
  },
  {
   "cell_type": "code",
   "execution_count": 44,
   "metadata": {
    "tags": []
   },
   "outputs": [],
   "source": [
    "# จงสร้างตัวแปร instance จากคลาส Person\n",
    "person1 = Person(\"Garfew\", 18)\n"
   ]
  },
  {
   "cell_type": "code",
   "execution_count": 45,
   "metadata": {
    "tags": []
   },
   "outputs": [],
   "source": [
    "# จงกำหนดอายุให้แก่ age\n",
    "person1._set_age(20)\n"
   ]
  },
  {
   "cell_type": "code",
   "execution_count": 46,
   "metadata": {
    "tags": []
   },
   "outputs": [
    {
     "name": "stdout",
     "output_type": "stream",
     "text": [
      "Name: Garfew, Age: 20\n"
     ]
    }
   ],
   "source": [
    "# จงแสดงข้่อมูลบุคคลของตัวแปร instance \n",
    "\n",
    "print(person1.getInfo())"
   ]
  },
  {
   "cell_type": "markdown",
   "metadata": {},
   "source": [
    "## 2.จงสร้างคลาส Student ที่มีการสืบทอดคุณสมบัติจากคลาส Person ในข้อที่ 1\n",
    "\n",
    "- ในคลาส Student จะมีคุณสมบัติเพิ่มเข้ามาดังต่อไปนี้ \"student_id\" คือ รหัสนักศึกษา, \"major\" คือ สาขาวิชา และทั้งสองจะต้องเป็นคุณสมบัติที่ไม่สามารถแก้ไขได้หลังจากสร้างตัวแปร Instance แล้ว\n",
    "\n",
    "- และใน method getInfo() ให้เพิ่มการแแสดง รหัสนักศึกษา และ สาชาวิชา เข้ามาด้วย"
   ]
  },
  {
   "cell_type": "code",
   "execution_count": 29,
   "metadata": {
    "tags": []
   },
   "outputs": [],
   "source": [
    "# เขียนโปรแกรมในช่องนี้\n",
    "class Person:\n",
    "    def __init__(self, name, age):\n",
    "        self._name = name\n",
    "        self._age = age\n",
    "\n",
    "    def _set_age(self, new_age):\n",
    "        if new_age > self._age:\n",
    "            self._age = new_age\n",
    "\n",
    "    def getInfo(self):\n",
    "        return f\"Name: {self._name}, Age: {self._age}\"\n",
    "\n",
    "class Student(Person):\n",
    "    def __init__(self, name, age, student_id, major):\n",
    "        super().__init__(name, age)\n",
    "        self._student_id = student_id\n",
    "        self._major = major\n",
    "\n",
    "    @property\n",
    "    def student_id(self):\n",
    "        return self._student_id\n",
    "\n",
    "    @property\n",
    "    def major(self):\n",
    "        return self._major\n",
    "\n",
    "    def getInfo(self):\n",
    "        person_info = super().getInfo()\n",
    "        return f\"{person_info}, Student ID: {self._student_id}, Major: {self._major}\"\n",
    "\n",
    "\n",
    "\n",
    "\n",
    "\n"
   ]
  },
  {
   "cell_type": "code",
   "execution_count": 30,
   "metadata": {
    "tags": []
   },
   "outputs": [],
   "source": [
    "# จงสร้างตัวแปร instance จากคลาส Student\n",
    "student1 = Student(\"Garfew\", 19, \"6612732103\", \"Computer Science\")\n"
   ]
  },
  {
   "cell_type": "code",
   "execution_count": 31,
   "metadata": {
    "tags": []
   },
   "outputs": [
    {
     "name": "stdout",
     "output_type": "stream",
     "text": [
      "Name: Garfew, Age: 19, Student ID: 6612732103, Major: Computer Science\n"
     ]
    }
   ],
   "source": [
    "# จงแสดงข้่อมูลนักเรียนของตัวแปร instance \n",
    "\n",
    "print(student1.getInfo())"
   ]
  },
  {
   "cell_type": "markdown",
   "metadata": {},
   "source": [
    "## 3.จงสร้างคลาส ComSciStudent ที่มีการสืบทอดคุณสมบัติจากคลาส Student ในข้อที่ 2\n",
    "\n",
    "- ในคลาส ComSciStudent จะมีคุณสมบัติที่รับเข้ามาแค่ \"student_id\" คือ รหัสนักศึกษา, แต่ \"major\" คือ สาขาวิชา จะมีค่า default เป็น \"Computer Science\" และทั้งสองจะต้องเป็นคุณสมบัติที่ไม่สามารถแก้ไขได้หลังจากสร้างตัวแปร Instance แล้ว\n",
    "\n",
    "- ในคลาส ComSciStudent จะมีคุณสมบัติที่เพิ่มเข้ามา อีก 1 ตัว คือ ความถนัด หรือ aptitude เพิ่มเข้ามา ซึ่งจะสามารถกำหนดได้ในกระบวนการสร้างตัวแปร instance และจะสามารถแก้ไขได้อีกโดยการแก้ไขผ่าน method ได้เท่านั้น\n",
    "\n",
    "\n",
    "- ในคลาส ComSciStudent จะมี method ชื่อว่า Coding() ซึ่งจะนำเสนอข้อมูลว่า นักศึกษา รหัสนักศึกษา ชื่อ กำลังเขียนโปรแกรมอยู่\n",
    "\n",
    "- ในคลาส ComSciStudent จะมี method ชื่อว่า getAptitude() ซึ่งจะนำเสนอข้อมูลว่า นักศึกษา รหัสนักศึกษา ชื่อ มีความถนัดเรื่อง ..."
   ]
  },
  {
   "cell_type": "code",
   "execution_count": 155,
   "metadata": {
    "tags": []
   },
   "outputs": [],
   "source": [
    "class ComSciStudent(Student):\n",
    "    def __init__(self, name, age, student_id, aptitude):\n",
    "        super().__init__(name, age)  # แก้ไขนี้\n",
    "        self._student_id = student_id  # เพิ่ม line นี้\n",
    "        self._aptitude = aptitude\n",
    "\n",
    "    @property\n",
    "    def aptitude(self):\n",
    "        return self._aptitude\n",
    "\n",
    "    @aptitude.setter\n",
    "    def aptitude(self, new_aptitude):\n",
    "        self._aptitude = new_aptitude\n",
    "\n",
    "    def Coding(self):\n",
    "        return f\"{self._name} (ID: {self._student_id}) is coding.\"\n",
    "\n",
    "    def getAptitude(self):\n",
    "        return f\"{self._name} (ID: {self._student_id}) has aptitude in {self._aptitude}.\"\n",
    "\n",
    "\n"
   ]
  },
  {
   "cell_type": "code",
   "execution_count": 156,
   "metadata": {
    "tags": []
   },
   "outputs": [],
   "source": [
    "# จงสร้างตัวแปร instance จากคลาส ComSciStudent\n",
    "com_sci_student_instance = ComSciStudent(\"Garfew\", 19, \"6612732103\", \"Algorithm\")"
   ]
  },
  {
   "cell_type": "code",
   "execution_count": 157,
   "metadata": {
    "tags": []
   },
   "outputs": [
    {
     "name": "stdout",
     "output_type": "stream",
     "text": [
      "Name: Garfew, Age: 19\n",
      "Garfew (ID: 6612732103) has aptitude in Algorithm.\n"
     ]
    }
   ],
   "source": [
    "# จงแสดงข้่อมูลนักเรียนของตัวแปร instance \n",
    "\n",
    "print(com_sci_student_instance.getInfo())\n",
    "print(com_sci_student_instance.getAptitude())\n"
   ]
  },
  {
   "cell_type": "code",
   "execution_count": 158,
   "metadata": {
    "tags": []
   },
   "outputs": [
    {
     "name": "stdout",
     "output_type": "stream",
     "text": [
      "Garfew (ID: 6612732103) is coding.\n"
     ]
    }
   ],
   "source": [
    "# จงแสดงการ coding\n",
    "\n",
    "print(com_sci_student_instance.Coding())\n",
    "\n"
   ]
  },
  {
   "cell_type": "code",
   "execution_count": 159,
   "metadata": {
    "tags": []
   },
   "outputs": [
    {
     "name": "stdout",
     "output_type": "stream",
     "text": [
      "Garfew (ID: 6612732103) has aptitude in Algorithm.\n"
     ]
    }
   ],
   "source": [
    "# จงแสดงความถนัด\n",
    "\n",
    "\n",
    "print(com_sci_student_instance.getAptitude())\n"
   ]
  },
  {
   "cell_type": "code",
   "execution_count": 160,
   "metadata": {
    "tags": []
   },
   "outputs": [
    {
     "name": "stdout",
     "output_type": "stream",
     "text": [
      "Garfew (ID: 6612732103) has aptitude in Python Programming.\n"
     ]
    }
   ],
   "source": [
    "class ComSciStudent(Student):\n",
    "    def __init__(self, name, age, student_id, aptitude):\n",
    "        super().__init__(name, age, student_id)\n",
    "        self._aptitude = aptitude\n",
    "\n",
    "    @property\n",
    "    def aptitude(self):\n",
    "        return self._aptitude\n",
    "\n",
    "    @aptitude.setter\n",
    "    def aptitude(self, new_aptitude):\n",
    "        self._aptitude = new_aptitude\n",
    "\n",
    "    def Coding(self):\n",
    "        return f\"{self._name} (ID: {self._student_id}) is coding.\"\n",
    "\n",
    "    def getAptitude(self):\n",
    "        return f\"{self._name} (ID: {self._student_id}) has aptitude in {self._aptitude}.\"\n",
    "\n",
    "# ตัวอย่างการแก้ไขความถนัด\n",
    "com_sci_student_instance.aptitude = \"Python Programming\"\n",
    "\n",
    "# แสดงความถนัดของนักเรียน\n",
    "print(com_sci_student_instance.getAptitude())\n"
   ]
  },
  {
   "cell_type": "code",
   "execution_count": null,
   "metadata": {},
   "outputs": [],
   "source": []
  },
  {
   "cell_type": "code",
   "execution_count": null,
   "metadata": {},
   "outputs": [],
   "source": []
  }
 ],
 "metadata": {
  "kernelspec": {
   "display_name": "Python 3 (ipykernel)",
   "language": "python",
   "name": "python3"
  },
  "language_info": {
   "codemirror_mode": {
    "name": "ipython",
    "version": 3
   },
   "file_extension": ".py",
   "mimetype": "text/x-python",
   "name": "python",
   "nbconvert_exporter": "python",
   "pygments_lexer": "ipython3",
   "version": "3.11.5"
  }
 },
 "nbformat": 4,
 "nbformat_minor": 4
}
